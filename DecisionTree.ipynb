{
  "nbformat": 4,
  "nbformat_minor": 0,
  "metadata": {
    "colab": {
      "provenance": []
    },
    "kernelspec": {
      "name": "python3",
      "display_name": "Python 3"
    },
    "language_info": {
      "name": "python"
    }
  },
  "cells": [
    {
      "cell_type": "markdown",
      "source": [
        "Pertama import Library"
      ],
      "metadata": {
        "id": "HGANfEhILeRB"
      }
    },
    {
      "cell_type": "code",
      "execution_count": 1,
      "metadata": {
        "id": "s7J_2yzVGTt2"
      },
      "outputs": [],
      "source": [
        "import numpy as np\n",
        "import pandas as pd\n",
        "from sklearn import tree"
      ]
    },
    {
      "cell_type": "code",
      "source": [
        "df = pd.read_csv('resto_preprocessed.csv', delimiter=';', header=0)"
      ],
      "metadata": {
        "id": "R9R2P_iwGgHl"
      },
      "execution_count": 2,
      "outputs": []
    },
    {
      "cell_type": "code",
      "source": [
        "print(df)"
      ],
      "metadata": {
        "colab": {
          "base_uri": "https://localhost:8080/"
        },
        "id": "9nBwTraNHQ_t",
        "outputId": "7730d362-21d7-4a9a-a089-49420a783bcf"
      },
      "execution_count": 3,
      "outputs": [
        {
          "output_type": "stream",
          "name": "stdout",
          "text": [
            "       Avg Spend Level  District  subdistrict  Highest Price  Lowest Price  \\\n",
            "0                    1        11           67        1400000          3000   \n",
            "1                    2        11           67          65000          2000   \n",
            "2                    2        11           67          48000          3000   \n",
            "3                    1        11          142          18300          3500   \n",
            "4                    2        10           89          35000          4000   \n",
            "...                ...       ...          ...            ...           ...   \n",
            "25126                2        14          145         120000          4000   \n",
            "25127                1         8          119          61000          5200   \n",
            "25128                3         8          119         152004          2000   \n",
            "25129                2         4          143          82500          3500   \n",
            "25130                1        11           14          35000          4500   \n",
            "\n",
            "       Average Price  Popularity  Category_Aneka nasi  Category_Ayam & bebek  \\\n",
            "0              53614           0                    1                      1   \n",
            "1              18509           0                    0                      1   \n",
            "2              20893           0                    0                      1   \n",
            "3              12227           0                    0                      1   \n",
            "4              19430           2                    1                      1   \n",
            "...              ...         ...                  ...                    ...   \n",
            "25126          24350           0                    0                      0   \n",
            "25127          18123           2                    0                      0   \n",
            "25128          38708           0                    1                      0   \n",
            "25129          26000           0                    0                      0   \n",
            "25130          15925           0                    1                      0   \n",
            "\n",
            "       Category_Bakmie  ...  Category_Korea  Category_Martabak  \\\n",
            "0                    0  ...               0                  0   \n",
            "1                    0  ...               0                  0   \n",
            "2                    0  ...               0                  0   \n",
            "3                    0  ...               0                  0   \n",
            "4                    0  ...               0                  0   \n",
            "...                ...  ...             ...                ...   \n",
            "25126                0  ...               0                  0   \n",
            "25127                0  ...               0                  0   \n",
            "25128                0  ...               0                  0   \n",
            "25129                0  ...               0                  0   \n",
            "25130                0  ...               0                  0   \n",
            "\n",
            "       Category_Minuman  Category_Pizza & pasta  Category_Roti  Category_Sate  \\\n",
            "0                     1                       0              0              0   \n",
            "1                     0                       0              0              0   \n",
            "2                     0                       0              0              0   \n",
            "3                     0                       0              0              0   \n",
            "4                     0                       0              0              0   \n",
            "...                 ...                     ...            ...            ...   \n",
            "25126                 1                       0              0              0   \n",
            "25127                 0                       0              1              0   \n",
            "25128                 0                       0              0              0   \n",
            "25129                 0                       0              0              1   \n",
            "25130                 1                       0              0              0   \n",
            "\n",
            "       Category_Seafood  Category_Sweets  Category_Thailand  \\\n",
            "0                     0                0                  0   \n",
            "1                     0                0                  0   \n",
            "2                     0                0                  0   \n",
            "3                     0                0                  0   \n",
            "4                     0                0                  0   \n",
            "...                 ...              ...                ...   \n",
            "25126                 0                0                  0   \n",
            "25127                 0                0                  0   \n",
            "25128                 0                0                  0   \n",
            "25129                 0                0                  0   \n",
            "25130                 0                0                  0   \n",
            "\n",
            "       Category_Timur Tengah  \n",
            "0                          0  \n",
            "1                          0  \n",
            "2                          0  \n",
            "3                          0  \n",
            "4                          0  \n",
            "...                      ...  \n",
            "25126                      0  \n",
            "25127                      0  \n",
            "25128                      0  \n",
            "25129                      0  \n",
            "25130                      0  \n",
            "\n",
            "[25131 rows x 28 columns]\n"
          ]
        }
      ]
    },
    {
      "cell_type": "markdown",
      "source": [
        "Merubah dataframe menjadi array numpy"
      ],
      "metadata": {
        "id": "hZl1RuPzLq2I"
      }
    },
    {
      "cell_type": "code",
      "source": [
        "df = df.to_numpy()\n",
        "print(df)"
      ],
      "metadata": {
        "colab": {
          "base_uri": "https://localhost:8080/"
        },
        "id": "Sdc1T7CXHUSh",
        "outputId": "66eb3d34-5aba-444b-b134-e8d3c5776ae3"
      },
      "execution_count": 4,
      "outputs": [
        {
          "output_type": "stream",
          "name": "stdout",
          "text": [
            "[[  1  11  67 ...   0   0   0]\n",
            " [  2  11  67 ...   0   0   0]\n",
            " [  2  11  67 ...   0   0   0]\n",
            " ...\n",
            " [  3   8 119 ...   0   0   0]\n",
            " [  2   4 143 ...   0   0   0]\n",
            " [  1  11  14 ...   0   0   0]]\n"
          ]
        }
      ]
    },
    {
      "cell_type": "markdown",
      "source": [
        "Membagi 80% data untuk data Training dan 20% untuk dataTesting"
      ],
      "metadata": {
        "id": "R6aM6nUgLykb"
      }
    },
    {
      "cell_type": "code",
      "source": [
        "split_index = int(0.8 * len(df))\n",
        "dataTraining = df[:split_index, :]\n",
        "dataTesting = df[split_index:, :]\n",
        "print(dataTraining)\n",
        "print(dataTesting)"
      ],
      "metadata": {
        "colab": {
          "base_uri": "https://localhost:8080/"
        },
        "id": "xj6QSVoIH-YM",
        "outputId": "b0c0d1c1-66b9-4089-b13b-4a6050bc594c"
      },
      "execution_count": 10,
      "outputs": [
        {
          "output_type": "stream",
          "name": "stdout",
          "text": [
            "[[  1  11  67 ...   0   0   0]\n",
            " [  2  11  67 ...   0   0   0]\n",
            " [  2  11  67 ...   0   0   0]\n",
            " ...\n",
            " [  1  14  81 ...   0   0   0]\n",
            " [  2   3 146 ...   0   0   0]\n",
            " [  2   3 136 ...   0   0   0]]\n",
            "[[  1   8  47 ...   0   0   0]\n",
            " [  2  14 137 ...   0   0   0]\n",
            " [  1  14 145 ...   0   0   0]\n",
            " ...\n",
            " [  3   8 119 ...   0   0   0]\n",
            " [  2   4 143 ...   0   0   0]\n",
            " [  1  11  14 ...   0   0   0]]\n"
          ]
        }
      ]
    },
    {
      "cell_type": "code",
      "source": [
        "# 80% untuk dataTraining\n",
        "# 20% untuk dataTesting\n",
        "print(len(dataTraining))\n",
        "print(len(dataTesting))"
      ],
      "metadata": {
        "colab": {
          "base_uri": "https://localhost:8080/"
        },
        "id": "kmdgjKE0ILp-",
        "outputId": "b6ad900b-f471-4c5b-ba3d-61cf89dd1472"
      },
      "execution_count": 13,
      "outputs": [
        {
          "output_type": "stream",
          "name": "stdout",
          "text": [
            "20104\n",
            "5027\n"
          ]
        }
      ]
    },
    {
      "cell_type": "markdown",
      "source": [
        "Menjadikan District, Subdistrict, Average Price sebagai input\n",
        "dan labelnya adalah popularity"
      ],
      "metadata": {
        "id": "j02wsIvUL6jE"
      }
    },
    {
      "cell_type": "code",
      "source": [
        "# District, Subdistrict, Average Price (Input)\n",
        "inputTraining = dataTraining[:, [1, 2, 5]]\n",
        "inputTesting = dataTesting[:, [1, 2, 5]]\n",
        "# Popularity (Label)\n",
        "labelTraining = dataTraining[:, 6]\n",
        "labelTesting = dataTesting[:, 6]"
      ],
      "metadata": {
        "id": "yUVM-Q_EIouw"
      },
      "execution_count": 29,
      "outputs": []
    },
    {
      "cell_type": "code",
      "source": [
        "model = tree.DecisionTreeClassifier()\n"
      ],
      "metadata": {
        "id": "1FNPp9ZKKIC6"
      },
      "execution_count": 30,
      "outputs": []
    },
    {
      "cell_type": "code",
      "source": [
        "model = model.fit(inputTraining, labelTraining)\n"
      ],
      "metadata": {
        "id": "cDDF6YHpKK6C"
      },
      "execution_count": 31,
      "outputs": []
    },
    {
      "cell_type": "code",
      "source": [
        "hasilPrediksi = model.predict(inputTesting)\n",
        "print(\"Label Sebenarnya : \", labelTesting)\n",
        "print(\"Hasil Prediksi : \", hasilPrediksi)"
      ],
      "metadata": {
        "colab": {
          "base_uri": "https://localhost:8080/"
        },
        "id": "Zd3jbNZ_KM7s",
        "outputId": "91c55b40-c231-4f85-9536-a4d41b54bea1"
      },
      "execution_count": 32,
      "outputs": [
        {
          "output_type": "stream",
          "name": "stdout",
          "text": [
            "Label Sebenarnya :  [2 0 2 ... 0 0 0]\n",
            "Hasil Prediksi :  [2 0 2 ... 0 0 0]\n"
          ]
        }
      ]
    },
    {
      "cell_type": "code",
      "source": [
        "\n",
        "prediksiBenar = (hasilPrediksi == labelTesting).sum()\n",
        "prediksiSalah = (hasilPrediksi != labelTesting).sum()\n",
        "print(\"Prediksi Benar : \", prediksiBenar, \"data\")\n",
        "print(\"Prediksi Salah : \", prediksiSalah, \"data\")\n",
        "print(\"Akurasi : \", prediksiBenar/(prediksiBenar+prediksiSalah)*100, \"%\")"
      ],
      "metadata": {
        "colab": {
          "base_uri": "https://localhost:8080/"
        },
        "id": "xtvInJswKPtb",
        "outputId": "b92c37a6-5145-4b66-9b9f-f03fb6f17158"
      },
      "execution_count": 34,
      "outputs": [
        {
          "output_type": "stream",
          "name": "stdout",
          "text": [
            "Prediksi Benar :  4726 data\n",
            "Prediksi Salah :  301 data\n",
            "Akurasi :  94.01233339964193 %\n"
          ]
        }
      ]
    }
  ]
}